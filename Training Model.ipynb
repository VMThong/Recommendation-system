{
 "cells": [
  {
   "cell_type": "code",
   "execution_count": null,
   "metadata": {
    "colab": {
     "base_uri": "https://localhost:8080/"
    },
    "id": "a6N6u4BFsc_t",
    "outputId": "eba6f62d-7cf6-4a1e-c7f7-7bb30c6cfb1d"
   },
   "outputs": [
    {
     "name": "stdout",
     "output_type": "stream",
     "text": [
      "Mounted at /content/drive\n"
     ]
    }
   ],
   "source": [
    "from google.colab import drive\n",
    "drive.mount('/content/drive')"
   ]
  },
  {
   "cell_type": "code",
   "execution_count": null,
   "metadata": {
    "colab": {
     "base_uri": "https://localhost:8080/",
     "height": 36
    },
    "id": "fGYWKmrWshTX",
    "outputId": "c39d4a81-ce97-4d96-a8d6-1844c270aae2"
   },
   "outputs": [
    {
     "data": {
      "application/vnd.google.colaboratory.intrinsic+json": {
       "type": "string"
      },
      "text/plain": [
       "'/device:GPU:0'"
      ]
     },
     "execution_count": 3,
     "metadata": {},
     "output_type": "execute_result"
    }
   ],
   "source": [
    "import tensorflow as tf\n",
    "tf.test.gpu_device_name()"
   ]
  },
  {
   "cell_type": "code",
   "execution_count": null,
   "metadata": {
    "id": "qoR6FDUWshQ5"
   },
   "outputs": [],
   "source": [
    "# https://udemy.com/recommender-systems\n",
    "# https://deeplearningcourses.com/recommender-systems\n",
    "from __future__ import print_function, division\n",
    "from builtins import range, input\n",
    "# Note: you may need to update your version of future\n",
    "# sudo pip install -U future\n",
    "import os\n",
    "import pickle\n",
    "import numpy as np\n",
    "import random\n",
    "import pandas as pd\n",
    "import matplotlib.pyplot as plt\n",
    "from sklearn.utils import shuffle, class_weight\n",
    "from sklearn.preprocessing import MinMaxScaler\n",
    "from tensorflow.keras.utils import plot_model\n",
    "\n",
    "import tensorflow as tf\n",
    "from tensorflow.keras.models import Model, load_model\n",
    "from tensorflow.keras.layers import Input, Embedding, Dot, Add, Flatten, Concatenate, Dense, Activation, Dropout, BatchNormalization, Lambda, Reshape\n",
    "from tensorflow.keras.regularizers import l2\n",
    "from tensorflow.keras.optimizers import SGD, Adam, RMSprop\n",
    "from tensorflow.keras.callbacks import EarlyStopping, ModelCheckpoint\n",
    "from sklearn.preprocessing import OneHotEncoder\n",
    "from keras_tuner import RandomSearch, Hyperband\n",
    "\n",
    "from sklearn.model_selection import StratifiedKFold"
   ]
  },
  {
   "cell_type": "code",
   "execution_count": null,
   "metadata": {
    "colab": {
     "base_uri": "https://localhost:8080/"
    },
    "id": "iy1GIgcQshOv",
    "outputId": "c43464a6-5b9b-45f6-e8c9-59ee8796243e"
   },
   "outputs": [
    {
     "name": "stdout",
     "output_type": "stream",
     "text": [
      "Looking in indexes: https://pypi.org/simple, https://us-python.pkg.dev/colab-wheels/public/simple/\n",
      "Collecting keras-tuner\n",
      "  Downloading keras_tuner-1.3.5-py3-none-any.whl (176 kB)\n",
      "\u001b[2K     \u001b[90m━━━━━━━━━━━━━━━━━━━━━━━━━━━━━━━━━━━━━━━\u001b[0m \u001b[32m176.1/176.1 kB\u001b[0m \u001b[31m5.2 MB/s\u001b[0m eta \u001b[36m0:00:00\u001b[0m\n",
      "\u001b[?25hRequirement already satisfied: requests in /usr/local/lib/python3.9/dist-packages (from keras-tuner) (2.27.1)\n",
      "Collecting kt-legacy\n",
      "  Downloading kt_legacy-1.0.5-py3-none-any.whl (9.6 kB)\n",
      "Requirement already satisfied: packaging in /usr/local/lib/python3.9/dist-packages (from keras-tuner) (23.0)\n",
      "Requirement already satisfied: idna<4,>=2.5 in /usr/local/lib/python3.9/dist-packages (from requests->keras-tuner) (3.4)\n",
      "Requirement already satisfied: certifi>=2017.4.17 in /usr/local/lib/python3.9/dist-packages (from requests->keras-tuner) (2022.12.7)\n",
      "Requirement already satisfied: urllib3<1.27,>=1.21.1 in /usr/local/lib/python3.9/dist-packages (from requests->keras-tuner) (1.26.15)\n",
      "Requirement already satisfied: charset-normalizer~=2.0.0 in /usr/local/lib/python3.9/dist-packages (from requests->keras-tuner) (2.0.12)\n",
      "Installing collected packages: kt-legacy, keras-tuner\n",
      "Successfully installed keras-tuner-1.3.5 kt-legacy-1.0.5\n"
     ]
    }
   ],
   "source": [
    "!pip install keras-tuner --upgrade"
   ]
  },
  {
   "cell_type": "code",
   "execution_count": null,
   "metadata": {
    "id": "ZO1oVaUhshML"
   },
   "outputs": [],
   "source": []
  },
  {
   "cell_type": "markdown",
   "metadata": {
    "id": "TxU5_EiUspzj"
   },
   "source": [
    "# Load data"
   ]
  },
  {
   "cell_type": "code",
   "execution_count": null,
   "metadata": {
    "id": "YjWzeHbgshJ4"
   },
   "outputs": [],
   "source": [
    "path = '/content/drive/MyDrive/Recommendation/'\n",
    "df_process = pd.read_csv(path + \"train_negative_dns_fast.csv\")"
   ]
  },
  {
   "cell_type": "code",
   "execution_count": null,
   "metadata": {
    "colab": {
     "base_uri": "https://localhost:8080/"
    },
    "id": "-BOgPAjdshHb",
    "outputId": "7f3d2428-9202-469e-9394-bc5708466295"
   },
   "outputs": [
    {
     "data": {
      "text/plain": [
       "Index(['new_customer_code', 'new_sku', 'purchase_dummy'], dtype='object')"
      ]
     },
     "execution_count": 6,
     "metadata": {},
     "output_type": "execute_result"
    }
   ],
   "source": [
    "df_process.columns"
   ]
  },
  {
   "cell_type": "code",
   "execution_count": null,
   "metadata": {
    "colab": {
     "base_uri": "https://localhost:8080/"
    },
    "id": "nXznM8c9shEz",
    "outputId": "e6c04ecf-315b-448c-fa59-617319abe8c0"
   },
   "outputs": [
    {
     "data": {
      "text/plain": [
       "1    2790268\n",
       "0    2790268\n",
       "Name: purchase_dummy, dtype: int64"
      ]
     },
     "execution_count": 7,
     "metadata": {},
     "output_type": "execute_result"
    }
   ],
   "source": [
    "df_process.purchase_dummy.value_counts()"
   ]
  },
  {
   "cell_type": "markdown",
   "metadata": {
    "id": "Z765KJ1Ps5NV"
   },
   "source": [
    "## Số lượng customer và item trong tập train"
   ]
  },
  {
   "cell_type": "code",
   "execution_count": null,
   "metadata": {
    "colab": {
     "base_uri": "https://localhost:8080/"
    },
    "id": "cpCoH4cHsg_5",
    "outputId": "13379d60-1262-42e4-c260-17a443f2a2a1"
   },
   "outputs": [
    {
     "data": {
      "text/plain": [
       "27699"
      ]
     },
     "execution_count": 8,
     "metadata": {},
     "output_type": "execute_result"
    }
   ],
   "source": [
    "N = df_process.new_customer_code.max() + 1\n",
    "N"
   ]
  },
  {
   "cell_type": "code",
   "execution_count": null,
   "metadata": {
    "colab": {
     "base_uri": "https://localhost:8080/"
    },
    "id": "LSf5Bqxosg9S",
    "outputId": "2f9f2ad2-3ff2-4a92-d7b8-8970c03403d8"
   },
   "outputs": [
    {
     "data": {
      "text/plain": [
       "14398"
      ]
     },
     "execution_count": 9,
     "metadata": {},
     "output_type": "execute_result"
    }
   ],
   "source": [
    "M = df_process.new_sku.max() + 1\n",
    "M"
   ]
  },
  {
   "cell_type": "code",
   "execution_count": null,
   "metadata": {
    "colab": {
     "base_uri": "https://localhost:8080/"
    },
    "id": "A2WLAIGBsg6t",
    "outputId": "beb0dc86-b3c7-4d47-a161-bcb145d907bc"
   },
   "outputs": [
    {
     "data": {
      "text/plain": [
       "5580536"
      ]
     },
     "execution_count": 10,
     "metadata": {},
     "output_type": "execute_result"
    }
   ],
   "source": [
    "len(df_process)"
   ]
  },
  {
   "cell_type": "markdown",
   "metadata": {
    "id": "9XIGl-Jfs9nm"
   },
   "source": [
    "## Load tập train và test"
   ]
  },
  {
   "cell_type": "code",
   "execution_count": null,
   "metadata": {
    "id": "lXkMszl0sg4X"
   },
   "outputs": [],
   "source": [
    "# Lấy mẫu ngẫu nhiên\n",
    "df_process = shuffle(df_process)\n",
    "cutoff = int(0.8*len(df_process))\n",
    "df_train = df_process.iloc[:cutoff]\n",
    "df_test = df_process.iloc[cutoff:]"
   ]
  },
  {
   "cell_type": "code",
   "execution_count": null,
   "metadata": {
    "id": "4xhOkY9Nsg17"
   },
   "outputs": [],
   "source": [
    "# Lấy mẫu với tỷ lệ phân phối giống nhau\n",
    "from sklearn.model_selection import StratifiedShuffleSplit\n",
    "\n",
    "\n",
    "X = df_process.drop(columns=[\"purchase_dummy\"])\n",
    "y = df_process[\"purchase_dummy\"]\n",
    "\n",
    "# Create an instance of StratifiedShuffleSplit\n",
    "ss = StratifiedShuffleSplit(n_splits=1, test_size=0.2, random_state=42)\n",
    "\n",
    "# Split the data into train and test sets\n",
    "for train_idx, test_idx in ss.split(X, y):\n",
    "    X_train, X_test = X.iloc[train_idx], X.iloc[test_idx]\n",
    "    y_train, y_test = y.iloc[train_idx], y.iloc[test_idx]\n",
    "\n",
    "# Concatenate X_train and y_train\n",
    "df_train = pd.concat([X_train, y_train], axis=1)\n",
    "\n",
    "# Concatenate X_test and y_test\n",
    "df_test = pd.concat([X_test, y_test], axis=1)"
   ]
  },
  {
   "cell_type": "markdown",
   "metadata": {
    "id": "cUwL9TKRtLl0"
   },
   "source": [
    "# Load check point"
   ]
  },
  {
   "cell_type": "code",
   "execution_count": null,
   "metadata": {
    "id": "iP8V_equsgzb"
   },
   "outputs": [],
   "source": [
    "path_check_point = '/content/drive/MyDrive/Recommendation/checkpoint/'\n",
    "os.makedirs(path_check_point, exist_ok=True)"
   ]
  },
  {
   "cell_type": "code",
   "execution_count": null,
   "metadata": {
    "id": "niLrD7basgw-"
   },
   "outputs": [],
   "source": []
  },
  {
   "cell_type": "markdown",
   "metadata": {
    "id": "9fxmz_-FtTWG"
   },
   "source": [
    "# Cài đặt model"
   ]
  },
  {
   "cell_type": "markdown",
   "metadata": {
    "id": "k0PcnXoTtc1F"
   },
   "source": [
    "## Cấu trúc model"
   ]
  },
  {
   "cell_type": "markdown",
   "metadata": {
    "id": "wOk5eQZkxPno"
   },
   "source": [
    "### Model 1: NeuMF + Random sampling"
   ]
  },
  {
   "cell_type": "code",
   "execution_count": null,
   "metadata": {
    "id": "QqB9c-ZAsgum"
   },
   "outputs": [],
   "source": [
    "# Load your dataset here\n",
    "# Ensure your dataset contains user_id, item_id, and binary_rating columns\n",
    "# Positive samples should have a binary_rating of 1, and negative samples should have a binary_rating of 0\n",
    "\n",
    "# Split the dataset into training and testing sets\n",
    "train_data = df_train\n",
    "test_data = df_test\n",
    "\n",
    "# Set the number of unique users and items\n",
    "n_users = N\n",
    "n_items = M\n",
    "\n",
    "# Model hyperparameters\n",
    "n_latent_factors = 8\n",
    "reg_penalty = 0\n",
    "\n",
    "\n",
    "# Define the input layers\n",
    "user_input = Input(shape=(1,))\n",
    "item_input = Input(shape=(1,))\n",
    "\n",
    "# Create user and item embeddings\n",
    "user_embedding = Embedding(n_users, n_latent_factors, embeddings_regularizer=l2(reg_penalty))(user_input)\n",
    "item_embedding = Embedding(n_items, n_latent_factors, embeddings_regularizer=l2(reg_penalty))(item_input)\n",
    "\n",
    "# Tạo user và item cho NN\n",
    "user_embedding_nn = Embedding(n_users, n_latent_factors, embeddings_regularizer=l2(reg_penalty))(user_input)\n",
    "item_embedding_nn = Embedding(n_items, n_latent_factors, embeddings_regularizer=l2(reg_penalty))(item_input)\n",
    "\n",
    "# Flatten the embeddings\n",
    "user_vec = Flatten()(user_embedding)\n",
    "item_vec = Flatten()(item_embedding)\n",
    "\n",
    "# Flatten cho embeddings NN\n",
    "user_vec_nn = Flatten()(user_embedding_nn)\n",
    "item_vec_nn = Flatten()(item_embedding_nn)\n",
    "\n",
    "# Compute the dot product between user and item vectors\n",
    "y = Dot(axes=1)([user_vec, item_vec])\n",
    "\n",
    "\n",
    "# Concate hai vector user và item NN\n",
    "x = Concatenate(axis=1)([user_vec_nn,item_vec_nn])\n",
    "x = Dense(32, activation='relu')(x)\n",
    "x = Dense(16, activation='relu')(x)\n",
    "x = Dense(8, activation='relu')(x)\n",
    "\n",
    "\n",
    "# Kết hợp MF và NN\n",
    "y = Concatenate(axis=1)([y,x])\n",
    "\n",
    "# Chuyển output thành dạng sigmoid\n",
    "y = Dense(1, activation='sigmoid')(y)\n",
    "\n",
    "early_stop = EarlyStopping(monitor='val_loss', mode='min', verbose=1, patience=1)\n",
    "fname = os.path.sep.join([path_check_point, \"weights-{epoch:03d}-{val_loss:.4f}.hdf5\"])\n",
    "checkpoint = ModelCheckpoint(fname, monitor=\"val_loss\", mode=\"max\",save_best_only=True, verbose=3)\n",
    "\n",
    "# Define the model\n",
    "model = Model(inputs=[user_input, item_input], outputs=y)\n",
    "model.compile(#optimizer='adam', \n",
    "              optimizer=Adam(learning_rate=0.005),\n",
    "              # optimizer=SGD(learning_rate=0.005, momentum=0.7),\n",
    "              loss='binary_crossentropy', \n",
    "              metrics=['accuracy'])\n"
   ]
  },
  {
   "cell_type": "code",
   "execution_count": null,
   "metadata": {
    "id": "vIovMqm8xSwp"
   },
   "outputs": [],
   "source": []
  },
  {
   "cell_type": "markdown",
   "metadata": {
    "id": "0j62DIkPxUhM"
   },
   "source": [
    "### Model 2: MF + DNS sampling"
   ]
  },
  {
   "cell_type": "code",
   "execution_count": null,
   "metadata": {
    "id": "k9x4XOhL5dws"
   },
   "outputs": [],
   "source": [
    "class MatrixFactorization:\n",
    "    def __init__(self, userCount = None, itemCount = None, n_latent_factors = 10, reg_penalty = 0.0, epochCount = 20, validationRatio = 0.2, batchSize = 256, openBias = False):\n",
    "        self.n_latent_factors = n_latent_factors\n",
    "        self.reg_penalty = reg_penalty\n",
    "        self.userCount = userCount\n",
    "        self.itemCount = itemCount\n",
    "        self.epochCount = epochCount\n",
    "        self.validationRatio = validationRatio\n",
    "        self.batchSize = batchSize\n",
    "        self.openBias = openBias\n",
    "        self.build()\n",
    "\n",
    "    def build(self):\n",
    "        self.user_input = Input(shape=(1,), dtype = \"int32\")\n",
    "        self.item_input = Input(shape=(1,), dtype = \"int32\")\n",
    "        \n",
    "        self.user_embedding = Embedding(self.userCount, self.n_latent_factors, embeddings_regularizer=l2(self.reg_penalty))(self.user_input)\n",
    "        self.item_embedding = Embedding(self.itemCount, self.n_latent_factors, embeddings_regularizer=l2(self.reg_penalty))(self.item_input)\n",
    "\n",
    "        self.user_vec = Flatten()(self.user_embedding)\n",
    "        self.item_vec = Flatten()(self.item_embedding)\n",
    "\n",
    "        # Tính dot product sẽ dựa theo phần tử cuối cùng, tức phần chứa latent factors vector\n",
    "        self.dot = Dot(axes=1)([self.user_vec, self.item_vec])\n",
    "\n",
    "\n",
    "        if self.openBias:\n",
    "            self.user_bias = Embedding(self.userCount, 1, embeddings_regularizer=l2(self.reg_penalty))(self.user_input) # (N, 1, 1)\n",
    "            self.item_bias = Embedding(self.itemCount, 1, embeddings_regularizer=l2(self.reg_penalty))(self.item_input) # (M, 1, 1)\n",
    "\n",
    "\n",
    "            self.user_bias_vec = Flatten()(self.user_bias)\n",
    "            self.item_bias_vec = Flatten()(self.item_bias)\n",
    "\n",
    "            self.y = Add()([self.dot, self.user_bias_vec, self.item_bias_vec])\n",
    "\n",
    "            self.y = Activation('sigmoid')(self.y)\n",
    "\n",
    "            self.model = Model(inputs=[self.user_input, self.item_input], outputs=self.y)\n",
    "        else:\n",
    "            self.y = Activation('sigmoid')(self.dot)\n",
    "            self.model = Model(inputs=[self.user_input, self.item_input], outputs=self.y)\n",
    "\n",
    "        self.model.compile(optimizer = \"adam\", loss = \"binary_crossentropy\", metrics = ['mse']);\n",
    "\n",
    "\n",
    "    def fit(self, dataTrain):\n",
    "        # Tập data train cần được shuffle trước khi đem đi train\n",
    "        shuffle(dataTrain)\n",
    "        userMatrix = dataTrain.iloc[:, 0].values.reshape(-1, 1).astype(int)\n",
    "        itemMatrix = dataTrain.iloc[:, 1].values.reshape(-1, 1).astype(int)\n",
    "        labelMatrix = dataTrain.iloc[:, 2].values.reshape(-1, 1).astype(int)\n",
    "\n",
    "        fname = os.path.sep.join([path_check_point, \"weights-{epoch:03d}-{val_loss:.4f}.hdf5\"])\n",
    "        checkpoint = ModelCheckpoint(fname, monitor=\"val_loss\", mode=\"min\",save_best_only=True, verbose=3)\n",
    "        self.result = self.model.fit([userMatrix, itemMatrix], labelMatrix, epochs = self.epochCount, batch_size = self.batchSize,\n",
    "                    validation_split = self.validationRatio, callbacks = [EarlyStopping(mode = \"min\",verbose=1, patience=1),checkpoint]);"
   ]
  },
  {
   "cell_type": "code",
   "execution_count": null,
   "metadata": {
    "colab": {
     "base_uri": "https://localhost:8080/"
    },
    "id": "qJWyIK2CxTwy",
    "outputId": "f289c304-11e7-4182-f30d-0e459d05676a"
   },
   "outputs": [
    {
     "name": "stdout",
     "output_type": "stream",
     "text": [
      "Epoch 1/4\n",
      "17438/17440 [============================>.] - ETA: 0s - loss: 0.6546 - mse: 0.2317\n",
      "Epoch 1: val_loss improved from inf to 0.63312, saving model to /content/drive/MyDrive/Recommendation/checkpoint/weights-001-0.6331.hdf5\n",
      "17440/17440 [==============================] - 86s 5ms/step - loss: 0.6546 - mse: 0.2317 - val_loss: 0.6331 - val_mse: 0.2220\n",
      "Epoch 2/4\n",
      "17440/17440 [==============================] - ETA: 0s - loss: 0.5943 - mse: 0.2046\n",
      "Epoch 2: val_loss improved from 0.63312 to 0.61788, saving model to /content/drive/MyDrive/Recommendation/checkpoint/weights-002-0.6179.hdf5\n",
      "17440/17440 [==============================] - 73s 4ms/step - loss: 0.5943 - mse: 0.2046 - val_loss: 0.6179 - val_mse: 0.2150\n",
      "Epoch 3/4\n",
      "17427/17440 [============================>.] - ETA: 0s - loss: 0.5403 - mse: 0.1815\n",
      "Epoch 3: val_loss did not improve from 0.61788\n",
      "17440/17440 [==============================] - 75s 4ms/step - loss: 0.5403 - mse: 0.1815 - val_loss: 0.6257 - val_mse: 0.2173\n",
      "Epoch 3: early stopping\n"
     ]
    }
   ],
   "source": [
    "model = MatrixFactorization(userCount=N, itemCount=M,n_latent_factors=32, epochCount=4,openBias=True)\n",
    "model.fit(df_process)"
   ]
  },
  {
   "cell_type": "code",
   "execution_count": null,
   "metadata": {
    "colab": {
     "base_uri": "https://localhost:8080/"
    },
    "id": "VP8_bv44xTsm",
    "outputId": "94842889-f3bc-425b-999f-a5de3b94a447"
   },
   "outputs": [
    {
     "data": {
      "text/plain": [
       "array([[1.],\n",
       "       [1.],\n",
       "       [1.],\n",
       "       ...,\n",
       "       [1.],\n",
       "       [1.],\n",
       "       [1.]])"
      ]
     },
     "execution_count": 18,
     "metadata": {},
     "output_type": "execute_result"
    }
   ],
   "source": [
    "np.ones((df_process.shape[0], 1))"
   ]
  },
  {
   "cell_type": "code",
   "execution_count": null,
   "metadata": {
    "id": "2OzxO2s4xTmd"
   },
   "outputs": [],
   "source": []
  },
  {
   "cell_type": "markdown",
   "metadata": {
    "id": "3hJgVnHZxTbG"
   },
   "source": []
  },
  {
   "cell_type": "markdown",
   "metadata": {
    "id": "3Rho1EDCtfGM"
   },
   "source": [
    "## Trực quan hóa model"
   ]
  },
  {
   "cell_type": "code",
   "execution_count": null,
   "metadata": {
    "colab": {
     "base_uri": "https://localhost:8080/",
     "height": 558
    },
    "id": "EsK1YkfUtjBY",
    "outputId": "b70a8610-bdb8-4464-8d69-58899b54157c"
   },
   "outputs": [
    {
     "data": {
      "image/png": "[encoded data removed]",
      "text/plain": [
       "<IPython.core.display.Image object>"
      ]
     },
     "execution_count": 19,
     "metadata": {},
     "output_type": "execute_result"
    }
   ],
   "source": [
    "plot_model(model, to_file='model.png', show_shapes=True, show_layer_names=True)"
   ]
  },
  {
   "cell_type": "markdown",
   "metadata": {
    "id": "v0vFsbe9tl3L"
   },
   "source": [
    "## Bắt đầu training"
   ]
  },
  {
   "cell_type": "code",
   "execution_count": null,
   "metadata": {
    "colab": {
     "base_uri": "https://localhost:8080/"
    },
    "id": "B5BIQ6Cvti75",
    "outputId": "82e52f0b-8f06-4f08-db97-3e390688b531"
   },
   "outputs": [
    {
     "data": {
      "text/plain": [
       "{'loss': [0.654555082321167, 0.5943127870559692, 0.5402981042861938],\n",
       " 'mse': [0.2317075878381729, 0.2045578807592392, 0.1815241575241089],\n",
       " 'val_loss': [0.6331169605255127, 0.6178783178329468, 0.6256745457649231],\n",
       " 'val_mse': [0.22198939323425293, 0.2149628847837448, 0.21725133061408997]}"
      ]
     },
     "execution_count": 27,
     "metadata": {},
     "output_type": "execute_result"
    }
   ],
   "source": [
    "model.history.history"
   ]
  },
  {
   "cell_type": "code",
   "execution_count": null,
   "metadata": {
    "id": "c88q4pMAsgsH"
   },
   "outputs": [],
   "source": [
    "# Train the model\n",
    "r = model.fit(\n",
    "    [train_data['new_customer_code'].values, train_data['new_sku'].values],\n",
    "    train_data['purchase_dummy'].values,\n",
    "    batch_size=64,\n",
    "    epochs=8,\n",
    "    callbacks=[early_stop, checkpoint],\n",
    "    validation_data=(\n",
    "        [test_data['new_customer_code'].values, test_data['new_sku'].values],\n",
    "        test_data['purchase_dummy'].values\n",
    "    )\n",
    ")"
   ]
  },
  {
   "cell_type": "markdown",
   "metadata": {
    "id": "FQMl8FintsAX"
   },
   "source": [
    "## Hiển thị plot loss"
   ]
  },
  {
   "cell_type": "code",
   "execution_count": null,
   "metadata": {
    "colab": {
     "base_uri": "https://localhost:8080/",
     "height": 435
    },
    "id": "k7Tedib0sgps",
    "outputId": "a41113f0-b9dc-4315-ff8b-57272887d7b8"
   },
   "outputs": [
    {
     "data": {
      "image/png": "[encoded data removed]",
      "text/plain": [
       "<Figure size 640x480 with 1 Axes>"
      ]
     },
     "metadata": {},
     "output_type": "display_data"
    }
   ],
   "source": [
    "# plot losses\n",
    "plt.plot(model.history.history['loss'], label=\"train loss\")\n",
    "plt.plot(model.history.history['val_loss'], label=\"test loss\")\n",
    "plt.legend()\n",
    "plt.show()"
   ]
  },
  {
   "cell_type": "markdown",
   "metadata": {
    "id": "cQ0vINbItxY5"
   },
   "source": [
    "## Save model"
   ]
  },
  {
   "cell_type": "code",
   "execution_count": null,
   "metadata": {
    "colab": {
     "base_uri": "https://localhost:8080/",
     "height": 182
    },
    "id": "gTaRHgPisgnU",
    "outputId": "40faff24-e295-4976-f63f-0f465fc28305"
   },
   "outputs": [
    {
     "ename": "AttributeError",
     "evalue": "ignored",
     "output_type": "error",
     "traceback": [
      "\u001b[0;31m---------------------------------------------------------------------------\u001b[0m",
      "\u001b[0;31mAttributeError\u001b[0m                            Traceback (most recent call last)",
      "\u001b[0;32m<ipython-input-18-125216255bc8>\u001b[0m in \u001b[0;36m<cell line: 2>\u001b[0;34m()\u001b[0m\n\u001b[1;32m      1\u001b[0m \u001b[0mpath1\u001b[0m \u001b[0;34m=\u001b[0m \u001b[0;34m'/content/drive/MyDrive/Recommendation system/Project/Negative/store/'\u001b[0m\u001b[0;34m\u001b[0m\u001b[0;34m\u001b[0m\u001b[0m\n\u001b[0;32m----> 2\u001b[0;31m \u001b[0mmodel\u001b[0m\u001b[0;34m.\u001b[0m\u001b[0msave\u001b[0m\u001b[0;34m(\u001b[0m\u001b[0mpath1\u001b[0m\u001b[0;34m+\u001b[0m \u001b[0;34m'v2_model_new_MF_2023_04_13.h5'\u001b[0m\u001b[0;34m)\u001b[0m\u001b[0;34m\u001b[0m\u001b[0;34m\u001b[0m\u001b[0m\n\u001b[0m",
      "\u001b[0;31mAttributeError\u001b[0m: 'MatrixFactorization' object has no attribute 'save'"
     ]
    }
   ],
   "source": [
    "path1 = '/content/drive/MyDrive/Recommendation system/Project/Negative/store/'\n",
    "model.save(path1+ 'v2_model_new_MF_2023_04_13.h5')  "
   ]
  },
  {
   "cell_type": "markdown",
   "metadata": {
    "id": "958F2HaLt3Ar"
   },
   "source": [
    "## Load model"
   ]
  },
  {
   "cell_type": "code",
   "execution_count": null,
   "metadata": {
    "id": "4aRDQhpZt23e"
   },
   "outputs": [],
   "source": [
    "path1 = '/content/drive/MyDrive/Recommendation/store/'\n",
    "model = load_model(path1 +'weights-001-0.4394.hdf5')"
   ]
  },
  {
   "cell_type": "markdown",
   "metadata": {
    "id": "lqWGmfM3t70P"
   },
   "source": [
    "# Pretrain model"
   ]
  },
  {
   "cell_type": "code",
   "execution_count": null,
   "metadata": {
    "id": "kBBvzX4wt2vx"
   },
   "outputs": [],
   "source": [
    "import tensorflow as tf\n",
    "from tensorflow import keras\n",
    "from keras_tuner.tuners import Hyperband\n",
    "\n",
    "train_data = df_train\n",
    "test_data = df_test\n",
    "early_stop = EarlyStopping(monitor='val_loss', mode='max', verbose=1, patience=3)\n",
    "\n",
    "model.fit(\n",
    "    [train_data['new_customer_code'].values, train_data['new_sku'].values],\n",
    "    train_data['purchase_dummy'].values,\n",
    "    batch_size=128,\n",
    "    epochs=3,\n",
    "    callbacks=[early_stop],\n",
    "    validation_data=(\n",
    "        [test_data['new_customer_code'].values, test_data['new_sku'].values],\n",
    "        test_data['purchase_dummy'].values\n",
    "    )\n",
    ")"
   ]
  },
  {
   "cell_type": "code",
   "execution_count": null,
   "metadata": {
    "id": "Jezkt-e6t2tF"
   },
   "outputs": [],
   "source": [
    "path1 = '/content/drive/MyDrive/Recommendation/store/'\n",
    "model.save(path1+ 'weights-001-0.4394_pretrain.hdf5')  "
   ]
  },
  {
   "cell_type": "markdown",
   "metadata": {
    "id": "PP2WOwSouDzo"
   },
   "source": [
    "# Kiểm tra hiệu suất model"
   ]
  },
  {
   "cell_type": "markdown",
   "metadata": {
    "id": "kpx5BfkruF8L"
   },
   "source": [
    "## Các def hỗ trợ kiểm tra"
   ]
  },
  {
   "cell_type": "markdown",
   "metadata": {
    "id": "sDgzjGWouLPJ"
   },
   "source": [
    "### Precision và Recall"
   ]
  },
  {
   "cell_type": "code",
   "execution_count": null,
   "metadata": {
    "id": "qMkjFKIRt2lr"
   },
   "outputs": [],
   "source": [
    "def mean_precision_recall_at_k(predictions_dict, k=10):\n",
    "    precisions = []\n",
    "    recalls = []\n",
    "    true_items = []\n",
    "    \n",
    "    for uid, user_ratings in predictions_dict.items():\n",
    "        user_ratings.sort(key=lambda x: x[0], reverse=True)\n",
    "        n_rel = sum((true_r == 1) for (_, true_r) in user_ratings)\n",
    "        n_rec_k = sum((est >= 0.5) for (est, _) in user_ratings[:k])\n",
    "        n_rel_and_rec_k = sum(((true_r == 1) and (est >= 0.5)) for (est, true_r) in user_ratings[:k])\n",
    "\n",
    "        precisions.append(n_rel_and_rec_k / n_rec_k if n_rec_k != 0 else 1)\n",
    "        recalls.append(n_rel_and_rec_k / n_rel if n_rel != 0 else 1)\n",
    "        true_items.append(n_rel)\n",
    "\n",
    "\n",
    "    mean_precision = np.mean(precisions)\n",
    "    mean_recall = np.mean(recalls)\n",
    "    true_items = np.mean(true_items)\n",
    "\n",
    "    return mean_precision, mean_recall, true_items"
   ]
  },
  {
   "cell_type": "markdown",
   "metadata": {
    "id": "N317OwcKuPok"
   },
   "source": [
    "### DCG và MRR"
   ]
  },
  {
   "cell_type": "code",
   "execution_count": null,
   "metadata": {
    "id": "iprSrXiZt2gr"
   },
   "outputs": [],
   "source": [
    "from collections import defaultdict\n",
    "import numpy as np\n",
    "from sklearn.metrics import ndcg_score\n",
    "def average_ndcg(predictions_dict, k=10):\n",
    "    ndcg_scores = []\n",
    "    for uid, user_ratings in predictions_dict.items():\n",
    "        true_ratings = [r for (_, r) in user_ratings]\n",
    "        est_ratings = [est for (est, _) in user_ratings]\n",
    "        ndcg_scores.append(ndcg_score([true_ratings], [est_ratings], k=k))\n",
    "    return np.mean(ndcg_scores)\n",
    "\n",
    "\n",
    "\n",
    "def mean_reciprocal_rank(predictions):\n",
    "    mrr_scores = []\n",
    "    for uid, user_ratings in predictions.items():\n",
    "        true_ratings = [true_r for (_, true_r) in user_ratings]\n",
    "        est_ratings = [est for (est, _) in user_ratings]\n",
    "        ranks = [idx + 1 for idx, (est, true_r) in enumerate(zip(est_ratings, true_ratings)) if est >= 0.5 and true_r == 1]\n",
    "        mrr_scores.append(1 / ranks[0] if ranks else 0)\n",
    "    return np.mean(mrr_scores)"
   ]
  },
  {
   "cell_type": "markdown",
   "metadata": {
    "id": "lMSSGryfuVFt"
   },
   "source": [
    "### Hit Rate"
   ]
  },
  {
   "cell_type": "code",
   "execution_count": null,
   "metadata": {
    "id": "u-frFv1IuTiU"
   },
   "outputs": [],
   "source": [
    "def hit_rate(predictions_dict, k=10):\n",
    "    num_users = len(predictions_dict)\n",
    "    hits = 0\n",
    "    for uid, user_ratings in predictions_dict.items():\n",
    "        if any(true_r == 1 for (_, true_r) in user_ratings[:k]):\n",
    "            hits += 1\n",
    "    hr_metric = round(hits / num_users,3)\n",
    "    return hr_metric"
   ]
  },
  {
   "cell_type": "markdown",
   "metadata": {
    "id": "RYp4rMYsuaND"
   },
   "source": [
    "## Triển khai"
   ]
  },
  {
   "cell_type": "markdown",
   "metadata": {
    "id": "3PiZ7T5pudrf"
   },
   "source": [
    "### Load data test"
   ]
  },
  {
   "cell_type": "code",
   "execution_count": null,
   "metadata": {
    "id": "B6Tj9WGrudeV"
   },
   "outputs": [],
   "source": [
    "# dataset_test_negative_x10_easy.csv\n",
    "# dataset_test_negative_x15.csv\n",
    "# dataset_test_negative_x20.csv\n",
    "# HR_test_dataset_in_2023_prohability.csv\n",
    "# HR_test_dataset_in_2023\n",
    "path_combine = '/content/drive/MyDrive/Recommendation/'\n",
    "test_combined = pd.read_csv(path_combine + \"HR_test_dataset_in_2023.csv\")\n",
    "test_combined"
   ]
  },
  {
   "cell_type": "markdown",
   "metadata": {
    "id": "h-7DoUNUugZw"
   },
   "source": [
    "### Load model"
   ]
  },
  {
   "cell_type": "code",
   "execution_count": null,
   "metadata": {
    "id": "XabhIoZ4uTdS"
   },
   "outputs": [],
   "source": [
    "path1 = '/content/drive/MyDrive/Recommendation/store/'\n",
    "model_penalty = load_model(path1 +'weights-002-0.6564.hdf5')"
   ]
  },
  {
   "cell_type": "markdown",
   "metadata": {
    "id": "rgIBIsFWunfE"
   },
   "source": [
    "### Chạy kiểm tra"
   ]
  },
  {
   "cell_type": "code",
   "execution_count": null,
   "metadata": {
    "id": "yK9a4S44uTav"
   },
   "outputs": [],
   "source": [
    "# Chạy model predict\n",
    "test_user_ids = test_combined['new_customer_code'].values\n",
    "test_item_ids = test_combined['new_sku'].values\n",
    "test_binary_ratings = test_combined['purchase_dummy'].apply(lambda x: 1 if x > 0 else 0).values\n",
    "\n",
    "predictions = model_penalty.predict([test_user_ids, test_item_ids])"
   ]
  },
  {
   "cell_type": "code",
   "execution_count": null,
   "metadata": {
    "id": "imjJjorPuTYZ"
   },
   "outputs": [],
   "source": [
    "# Chạy kiểm tra các metric\n",
    "from collections import defaultdict\n",
    "# Prepare the predictions dictionary\n",
    "predictions_dict = defaultdict(list)\n",
    "for uid, iid, true_r, est in zip(test_user_ids, test_item_ids, test_binary_ratings, predictions.flatten()):\n",
    "    predictions_dict[uid].append((est, true_r))\n",
    "\n",
    "# Sort user_ratings by estimated ratings in descending order\n",
    "for uid, user_ratings in predictions_dict.items():\n",
    "    predictions_dict[uid] = sorted(user_ratings, key=lambda x: x[0], reverse=True)\n",
    "\n",
    "# Calculate evaluation metrics\n",
    "# mean_precision, mean_recall, true_items = mean_precision_recall_at_k(predictions_dict, k=10)\n",
    "hr = hit_rate(predictions_dict)\n",
    "ndcg = average_ndcg(predictions_dict, 10)\n",
    "rrank = mean_reciprocal_rank(predictions_dict)\n",
    "# mean_items = true_items\n",
    "\n",
    "# print(f\"Mean Precision@10: {mean_precision:.4f}\")\n",
    "# print(f\"Mean Recall@10: {mean_recall:.4f}\")\n",
    "# print(f\"Mean Items: {mean_items:.4f}\")\n",
    "\n",
    "print(\"Hit Rate @10: \", hr)\n",
    "print(f\"Mean_ndcg_at_k@10: {ndcg:.4f}\")\n",
    "print(f\"Mean_reciprocal_rank@10: {rrank:.4f}\")"
   ]
  }
 ],
 "metadata": {
  "accelerator": "GPU",
  "colab": {
   "provenance": [],
   "toc_visible": true
  },
  "gpuClass": "standard",
  "hide_input": false,
  "kernelspec": {
   "display_name": "Python 3",
   "language": "python",
   "name": "python3"
  },
  "language_info": {
   "codemirror_mode": {
    "name": "ipython",
    "version": 3
   },
   "file_extension": ".py",
   "mimetype": "text/x-python",
   "name": "python",
   "nbconvert_exporter": "python",
   "pygments_lexer": "ipython3",
   "version": "3.8.8"
  },
  "toc": {
   "base_numbering": 1,
   "nav_menu": {},
   "number_sections": true,
   "sideBar": true,
   "skip_h1_title": false,
   "title_cell": "Table of Contents",
   "title_sidebar": "Contents",
   "toc_cell": false,
   "toc_position": {},
   "toc_section_display": true,
   "toc_window_display": false
  },
  "varInspector": {
   "cols": {
    "lenName": 16,
    "lenType": 16,
    "lenVar": 40
   },
   "kernels_config": {
    "python": {
     "delete_cmd_postfix": "",
     "delete_cmd_prefix": "del ",
     "library": "var_list.py",
     "varRefreshCmd": "print(var_dic_list())"
    },
    "r": {
     "delete_cmd_postfix": ") ",
     "delete_cmd_prefix": "rm(",
     "library": "var_list.r",
     "varRefreshCmd": "cat(var_dic_list()) "
    }
   },
   "types_to_exclude": [
    "module",
    "function",
    "builtin_function_or_method",
    "instance",
    "_Feature"
   ],
   "window_display": false
  }
 },
 "nbformat": 4,
 "nbformat_minor": 1
}
